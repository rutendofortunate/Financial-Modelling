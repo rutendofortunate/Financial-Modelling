{
 "cells": [
  {
   "cell_type": "code",
   "execution_count": 16,
   "id": "eef59054-fe40-4f5e-b93a-42584bc12c87",
   "metadata": {
    "tags": []
   },
   "outputs": [],
   "source": [
    "import numpy_financial as npf"
   ]
  },
  {
   "cell_type": "markdown",
   "id": "f87aeaee-3c3f-46d5-8d0d-fd43f28f8dc5",
   "metadata": {},
   "source": [
    "# Inputs\n",
    "\n",
    "The inputs are defined here."
   ]
  },
  {
   "cell_type": "code",
   "execution_count": 1,
   "id": "0be49370-0355-4fe9-a7c9-8ac59b10eaf4",
   "metadata": {
    "tags": []
   },
   "outputs": [],
   "source": [
    "salary = 60000\n",
    "savings_rate = 0.25\n",
    "investment_rate = 0.05\n",
    "desired_cash = 1500000"
   ]
  },
  {
   "cell_type": "markdown",
   "id": "ebd1fa43-d6d3-4fa3-bcf1-45b99e357000",
   "metadata": {
    "tags": []
   },
   "source": [
    "# Determining Cash Saved"
   ]
  },
  {
   "cell_type": "code",
   "execution_count": 26,
   "id": "5d9c0069-49d7-48fb-8d15-245980ebef37",
   "metadata": {
    "tags": []
   },
   "outputs": [],
   "source": [
    "annual_cash = salary * savings_rate"
   ]
  },
  {
   "cell_type": "code",
   "execution_count": 27,
   "id": "54eebfc2-b4a8-4f99-b787-2eb28a34ec9f",
   "metadata": {
    "tags": []
   },
   "outputs": [
    {
     "name": "stdout",
     "output_type": "stream",
     "text": [
      "15000.0\n"
     ]
    }
   ],
   "source": [
    "print(annual_cash)"
   ]
  },
  {
   "cell_type": "markdown",
   "id": "9ba1c786-e6c2-424b-8745-9694d6e40856",
   "metadata": {},
   "source": [
    "# Years to Retirement"
   ]
  },
  {
   "cell_type": "code",
   "execution_count": 28,
   "id": "80a4af97-8df6-4a97-9865-55efba651c58",
   "metadata": {
    "tags": []
   },
   "outputs": [],
   "source": [
    "years_to_retirement = npf.nper(investment_rate, -annual_cash, 0, desired_cash)"
   ]
  },
  {
   "cell_type": "code",
   "execution_count": 43,
   "id": "bd3d3085-d838-4cd4-83fa-48b26fee37c4",
   "metadata": {
    "tags": []
   },
   "outputs": [
    {
     "name": "stdout",
     "output_type": "stream",
     "text": [
      "Martha has 36.72 years to retirement\n"
     ]
    }
   ],
   "source": [
    "print(\"Martha has\" , round(years_to_retirement.item(),2),\"years to retirement\")"
   ]
  },
  {
   "cell_type": "markdown",
   "id": "c98a4736-9245-4593-a3cd-ddb00fb9f7b6",
   "metadata": {},
   "source": [
    "# python iteration"
   ]
  },
  {
   "cell_type": "code",
   "execution_count": 44,
   "id": "cf13b712-8c94-4ceb-9be7-b46331e8fc32",
   "metadata": {
    "tags": []
   },
   "outputs": [
    {
     "name": "stdout",
     "output_type": "stream",
     "text": [
      "7\n",
      "12\n",
      "17\n"
     ]
    }
   ],
   "source": [
    "inputs = [5, 10, 15]\n",
    "for item in inputs:\n",
    "    new_value = item + 2\n",
    "    print(new_value)"
   ]
  },
  {
   "cell_type": "markdown",
   "id": "9a86200d-5c74-4b95-95cc-1a73300e5a48",
   "metadata": {},
   "source": [
    "# Multiple Interest Rates"
   ]
  },
  {
   "cell_type": "code",
   "execution_count": 54,
   "id": "acbd5e14-6e9f-4fbb-a08d-db10e36a451c",
   "metadata": {
    "tags": []
   },
   "outputs": [
    {
     "name": "stdout",
     "output_type": "stream",
     "text": [
      "Martha has 36.72 years to retirement if she earns a 0.05 return\n",
      "Martha has 33.4 years to retirement if she earns a 0.06 return\n",
      "Martha has 30.73 years to retirement if she earns a 0.07 return\n"
     ]
    }
   ],
   "source": [
    "investment_rate = [0.05, 0.06, 0.07]\n",
    "for i_rate in investment_rate:\n",
    "    years_to_retirement = npf.nper(i_rate, -annual_cash, 0, desired_cash)\n",
    "    print(\"Martha has\" , round(years_to_retirement.item(),2),\"years to retirement if she earns a\",i_rate ,\"return\")"
   ]
  },
  {
   "cell_type": "code",
   "execution_count": 63,
   "id": "e9c8dd4d-0ddd-4d66-be0f-f019c640c154",
   "metadata": {
    "tags": []
   },
   "outputs": [
    {
     "name": "stdout",
     "output_type": "stream",
     "text": [
      "Salary: 60000 | Savings Rate: 0.2 | Investment Rate: 0.04 | Years to Retirement: 45.68\n",
      "Salary: 60000 | Savings Rate: 0.2 | Investment Rate: 0.05 | Years to Retirement: 40.6\n",
      "Salary: 60000 | Savings Rate: 0.2 | Investment Rate: 0.06 | Years to Retirement: 36.73\n",
      "Salary: 60000 | Savings Rate: 0.25 | Investment Rate: 0.04 | Years to Retirement: 41.04\n",
      "Salary: 60000 | Savings Rate: 0.25 | Investment Rate: 0.05 | Years to Retirement: 36.72\n",
      "Salary: 60000 | Savings Rate: 0.25 | Investment Rate: 0.06 | Years to Retirement: 33.4\n",
      "Salary: 60000 | Savings Rate: 0.3 | Investment Rate: 0.04 | Years to Retirement: 37.39\n",
      "Salary: 60000 | Savings Rate: 0.3 | Investment Rate: 0.05 | Years to Retirement: 33.66\n",
      "Salary: 60000 | Savings Rate: 0.3 | Investment Rate: 0.06 | Years to Retirement: 30.75\n"
     ]
    }
   ],
   "source": [
    "import numpy_financial as npf\n",
    "\n",
    "salaries = [60000]  # List of salaries\n",
    "savings_rates = [0.2, 0.25, 0.3]  # List of savings rates\n",
    "investment_rates = [0.04, 0.05, 0.06]  # List of investment rates\n",
    "desired_cash = 1500000\n",
    "\n",
    "# Iterate over each salary, savings rate, and investment rate combination\n",
    "for salary in salaries:\n",
    "    for savings_rate in savings_rates:\n",
    "        for investment_rate in investment_rates:\n",
    "            # Calculate annual_cash\n",
    "            annual_cash = salary * savings_rate\n",
    "            # Calculate the number of years to retirement\n",
    "            years_to_retirement = npf.nper(investment_rate, -annual_cash, 0, desired_cash)\n",
    "            print(\"Salary:\", salary, \"| Savings Rate:\", savings_rate, \"| Investment Rate:\", investment_rate, \"| Years to Retirement:\", round(years_to_retirement.item(), 2))\n"
   ]
  },
  {
   "cell_type": "code",
   "execution_count": 65,
   "id": "22d77a1c-f6a8-4145-87a7-3e3e70e922fc",
   "metadata": {
    "tags": []
   },
   "outputs": [
    {
     "data": {
      "text/plain": [
       "21"
      ]
     },
     "execution_count": 65,
     "metadata": {},
     "output_type": "execute_result"
    }
   ],
   "source": [
    "def my_func(a,b, c=10):\n",
    "    return a+b+c\n",
    "my_func(5,6)"
   ]
  },
  {
   "cell_type": "code",
   "execution_count": null,
   "id": "910ebe7d-1af8-4ce0-a1a8-4ec484974b9f",
   "metadata": {},
   "outputs": [],
   "source": []
  }
 ],
 "metadata": {
  "kernelspec": {
   "display_name": "Python 3 (ipykernel)",
   "language": "python",
   "name": "python3"
  },
  "language_info": {
   "codemirror_mode": {
    "name": "ipython",
    "version": 3
   },
   "file_extension": ".py",
   "mimetype": "text/x-python",
   "name": "python",
   "nbconvert_exporter": "python",
   "pygments_lexer": "ipython3",
   "version": "3.11.5"
  }
 },
 "nbformat": 4,
 "nbformat_minor": 5
}
